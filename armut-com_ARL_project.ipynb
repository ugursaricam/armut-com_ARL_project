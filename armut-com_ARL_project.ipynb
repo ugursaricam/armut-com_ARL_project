{
 "cells": [
  {
   "cell_type": "code",
   "execution_count": 1,
   "id": "38dd43db",
   "metadata": {},
   "outputs": [],
   "source": [
    "# import pandas and mlxtend libraries\n",
    "import pandas as pd\n",
    "from mlxtend.frequent_patterns import apriori, association_rules"
   ]
  },
  {
   "cell_type": "code",
   "execution_count": 2,
   "id": "012ca1d8",
   "metadata": {},
   "outputs": [],
   "source": [
    "# set display options for pandas\n",
    "pd.set_option('display.max_columns', None)\n",
    "pd.set_option('display.width', 1000)\n",
    "pd.set_option('display.expand_frame_repr', False)"
   ]
  },
  {
   "cell_type": "code",
   "execution_count": 4,
   "id": "a47de145",
   "metadata": {},
   "outputs": [],
   "source": [
    "# read the dataset\n",
    "df = pd.read_csv('armut_data.csv')"
   ]
  },
  {
   "cell_type": "code",
   "execution_count": 5,
   "id": "a884088e",
   "metadata": {},
   "outputs": [
    {
     "name": "stdout",
     "output_type": "stream",
     "text": [
      "##################### Shape #####################\n",
      "(162523, 4)\n",
      "##################### Types #####################\n",
      "UserId         int64\n",
      "ServiceId      int64\n",
      "CategoryId     int64\n",
      "CreateDate    object\n",
      "dtype: object\n",
      "##################### Head #####################\n",
      "   UserId  ServiceId  CategoryId           CreateDate\n",
      "0   25446          4           5  2017-08-06 16:11:00\n",
      "1   22948         48           5  2017-08-06 16:12:00\n",
      "2   10618          0           8  2017-08-06 16:13:00\n",
      "3    7256          9           4  2017-08-06 16:14:00\n",
      "4   25446         48           5  2017-08-06 16:16:00\n",
      "##################### Tail #####################\n",
      "        UserId  ServiceId  CategoryId           CreateDate\n",
      "162518   10591         25           0  2018-08-06 14:40:00\n",
      "162519   10591          2           0  2018-08-06 14:43:00\n",
      "162520   10591         31           6  2018-08-06 14:47:00\n",
      "162521   12666         38           4  2018-08-06 16:01:00\n",
      "162522   17497         47           7  2018-08-06 16:04:00\n",
      "##################### NA #####################\n",
      "UserId        0\n",
      "ServiceId     0\n",
      "CategoryId    0\n",
      "CreateDate    0\n",
      "dtype: int64\n",
      "##################### Quantiles #####################\n",
      "               count          mean          std  min   0%      5%      50%      95%      99%     100%      max\n",
      "UserId      162523.0  13089.803862  7325.816060  0.0  0.0  1390.0  13139.0  24455.0  25490.0  25744.0  25744.0\n",
      "ServiceId   162523.0     21.641140    13.774405  0.0  0.0     2.0     18.0     48.0     49.0     49.0     49.0\n",
      "CategoryId  162523.0      4.325917     3.129292  0.0  0.0     0.0      4.0     11.0     11.0     11.0     11.0\n"
     ]
    }
   ],
   "source": [
    "# read the dataset and check its basic properties using the check_df() function\n",
    "# the function prints the shape, data types, head and tail of the dataframe, \n",
    "# number of missing values for each column, and various summary statisticsdef check_df(dataframe, head=5):\n",
    "    print('##################### Shape #####################')\n",
    "    print(dataframe.shape)\n",
    "    print('##################### Types #####################')\n",
    "    print(dataframe.dtypes)\n",
    "    print('##################### Head #####################')\n",
    "    print(dataframe.head(head))\n",
    "    print('##################### Tail #####################')\n",
    "    print(dataframe.tail(head))\n",
    "    print('##################### NA #####################')\n",
    "    print(dataframe.isnull().sum())\n",
    "    print('##################### Quantiles #####################')\n",
    "    print(dataframe.describe([0, 0.05, 0.50, 0.95, 0.99, 1]).T)\n",
    "\n",
    "check_df(df)"
   ]
  },
  {
   "cell_type": "code",
   "execution_count": 6,
   "id": "66e040df",
   "metadata": {},
   "outputs": [],
   "source": [
    "# create a new column that combines the service and category ids\n",
    "df['ServiceCategory'] = df['ServiceId'].astype(str) + '_' + df['CategoryId'].astype(str)"
   ]
  },
  {
   "cell_type": "code",
   "execution_count": 7,
   "id": "e17a4a2a",
   "metadata": {},
   "outputs": [],
   "source": [
    "# convert the create date column to datetime and extract month-year information\n",
    "df['New_Date'] = pd.to_datetime(df['CreateDate']).dt.to_period('M')"
   ]
  },
  {
   "cell_type": "code",
   "execution_count": 10,
   "id": "80d58085",
   "metadata": {},
   "outputs": [],
   "source": [
    "# create a basket id column by combining user id and month-year information\n",
    "df['basketID'] = df['UserId'].astype(str) + '_' + df['New_Date'].astype(str)"
   ]
  },
  {
   "cell_type": "code",
   "execution_count": 11,
   "id": "78ce5546",
   "metadata": {},
   "outputs": [
    {
     "data": {
      "text/html": [
       "<div>\n",
       "<style scoped>\n",
       "    .dataframe tbody tr th:only-of-type {\n",
       "        vertical-align: middle;\n",
       "    }\n",
       "\n",
       "    .dataframe tbody tr th {\n",
       "        vertical-align: top;\n",
       "    }\n",
       "\n",
       "    .dataframe thead th {\n",
       "        text-align: right;\n",
       "    }\n",
       "</style>\n",
       "<table border=\"1\" class=\"dataframe\">\n",
       "  <thead>\n",
       "    <tr style=\"text-align: right;\">\n",
       "      <th></th>\n",
       "      <th>UserId</th>\n",
       "      <th>ServiceId</th>\n",
       "      <th>CategoryId</th>\n",
       "      <th>CreateDate</th>\n",
       "      <th>ServiceCategory</th>\n",
       "      <th>New_Date</th>\n",
       "      <th>basketID</th>\n",
       "    </tr>\n",
       "  </thead>\n",
       "  <tbody>\n",
       "    <tr>\n",
       "      <th>0</th>\n",
       "      <td>25446</td>\n",
       "      <td>4</td>\n",
       "      <td>5</td>\n",
       "      <td>2017-08-06 16:11:00</td>\n",
       "      <td>4_5</td>\n",
       "      <td>2017-08</td>\n",
       "      <td>25446_2017-08</td>\n",
       "    </tr>\n",
       "    <tr>\n",
       "      <th>1</th>\n",
       "      <td>22948</td>\n",
       "      <td>48</td>\n",
       "      <td>5</td>\n",
       "      <td>2017-08-06 16:12:00</td>\n",
       "      <td>48_5</td>\n",
       "      <td>2017-08</td>\n",
       "      <td>22948_2017-08</td>\n",
       "    </tr>\n",
       "    <tr>\n",
       "      <th>2</th>\n",
       "      <td>10618</td>\n",
       "      <td>0</td>\n",
       "      <td>8</td>\n",
       "      <td>2017-08-06 16:13:00</td>\n",
       "      <td>0_8</td>\n",
       "      <td>2017-08</td>\n",
       "      <td>10618_2017-08</td>\n",
       "    </tr>\n",
       "    <tr>\n",
       "      <th>3</th>\n",
       "      <td>7256</td>\n",
       "      <td>9</td>\n",
       "      <td>4</td>\n",
       "      <td>2017-08-06 16:14:00</td>\n",
       "      <td>9_4</td>\n",
       "      <td>2017-08</td>\n",
       "      <td>7256_2017-08</td>\n",
       "    </tr>\n",
       "    <tr>\n",
       "      <th>4</th>\n",
       "      <td>25446</td>\n",
       "      <td>48</td>\n",
       "      <td>5</td>\n",
       "      <td>2017-08-06 16:16:00</td>\n",
       "      <td>48_5</td>\n",
       "      <td>2017-08</td>\n",
       "      <td>25446_2017-08</td>\n",
       "    </tr>\n",
       "  </tbody>\n",
       "</table>\n",
       "</div>"
      ],
      "text/plain": [
       "   UserId  ServiceId  CategoryId           CreateDate ServiceCategory New_Date       basketID\n",
       "0   25446          4           5  2017-08-06 16:11:00             4_5  2017-08  25446_2017-08\n",
       "1   22948         48           5  2017-08-06 16:12:00            48_5  2017-08  22948_2017-08\n",
       "2   10618          0           8  2017-08-06 16:13:00             0_8  2017-08  10618_2017-08\n",
       "3    7256          9           4  2017-08-06 16:14:00             9_4  2017-08   7256_2017-08\n",
       "4   25446         48           5  2017-08-06 16:16:00            48_5  2017-08  25446_2017-08"
      ]
     },
     "execution_count": 11,
     "metadata": {},
     "output_type": "execute_result"
    }
   ],
   "source": [
    "df.head()"
   ]
  },
  {
   "cell_type": "code",
   "execution_count": 12,
   "id": "0d496f23",
   "metadata": {},
   "outputs": [],
   "source": [
    "# group the data by basket id and service-category, and count the occurrences\n",
    "# transform the data to a binary matrix, where 1 indicates the presence of an item in a basket, 0 otherwise\n",
    "basket = df.groupby(['basketID', 'ServiceCategory'])['ServiceCategory'].count().unstack().fillna(0).applymap(lambda x: 1 if x > 0 else 0)"
   ]
  },
  {
   "cell_type": "code",
   "execution_count": 18,
   "id": "e42521d6",
   "metadata": {},
   "outputs": [
    {
     "data": {
      "text/html": [
       "<div>\n",
       "<style scoped>\n",
       "    .dataframe tbody tr th:only-of-type {\n",
       "        vertical-align: middle;\n",
       "    }\n",
       "\n",
       "    .dataframe tbody tr th {\n",
       "        vertical-align: top;\n",
       "    }\n",
       "\n",
       "    .dataframe thead th {\n",
       "        text-align: right;\n",
       "    }\n",
       "</style>\n",
       "<table border=\"1\" class=\"dataframe\">\n",
       "  <thead>\n",
       "    <tr style=\"text-align: right;\">\n",
       "      <th>ServiceCategory</th>\n",
       "      <th>0_8</th>\n",
       "      <th>10_9</th>\n",
       "      <th>11_11</th>\n",
       "      <th>12_7</th>\n",
       "      <th>13_11</th>\n",
       "      <th>14_7</th>\n",
       "      <th>15_1</th>\n",
       "      <th>16_8</th>\n",
       "      <th>17_5</th>\n",
       "      <th>18_4</th>\n",
       "    </tr>\n",
       "    <tr>\n",
       "      <th>basketID</th>\n",
       "      <th></th>\n",
       "      <th></th>\n",
       "      <th></th>\n",
       "      <th></th>\n",
       "      <th></th>\n",
       "      <th></th>\n",
       "      <th></th>\n",
       "      <th></th>\n",
       "      <th></th>\n",
       "      <th></th>\n",
       "    </tr>\n",
       "  </thead>\n",
       "  <tbody>\n",
       "    <tr>\n",
       "      <th>0_2017-08</th>\n",
       "      <td>0</td>\n",
       "      <td>0</td>\n",
       "      <td>0</td>\n",
       "      <td>0</td>\n",
       "      <td>0</td>\n",
       "      <td>0</td>\n",
       "      <td>0</td>\n",
       "      <td>0</td>\n",
       "      <td>0</td>\n",
       "      <td>0</td>\n",
       "    </tr>\n",
       "    <tr>\n",
       "      <th>0_2017-09</th>\n",
       "      <td>0</td>\n",
       "      <td>0</td>\n",
       "      <td>0</td>\n",
       "      <td>0</td>\n",
       "      <td>0</td>\n",
       "      <td>0</td>\n",
       "      <td>0</td>\n",
       "      <td>0</td>\n",
       "      <td>0</td>\n",
       "      <td>0</td>\n",
       "    </tr>\n",
       "    <tr>\n",
       "      <th>0_2018-01</th>\n",
       "      <td>0</td>\n",
       "      <td>0</td>\n",
       "      <td>0</td>\n",
       "      <td>0</td>\n",
       "      <td>0</td>\n",
       "      <td>0</td>\n",
       "      <td>0</td>\n",
       "      <td>0</td>\n",
       "      <td>0</td>\n",
       "      <td>0</td>\n",
       "    </tr>\n",
       "    <tr>\n",
       "      <th>0_2018-04</th>\n",
       "      <td>0</td>\n",
       "      <td>0</td>\n",
       "      <td>0</td>\n",
       "      <td>0</td>\n",
       "      <td>0</td>\n",
       "      <td>1</td>\n",
       "      <td>0</td>\n",
       "      <td>0</td>\n",
       "      <td>0</td>\n",
       "      <td>0</td>\n",
       "    </tr>\n",
       "    <tr>\n",
       "      <th>10000_2017-08</th>\n",
       "      <td>0</td>\n",
       "      <td>0</td>\n",
       "      <td>0</td>\n",
       "      <td>0</td>\n",
       "      <td>0</td>\n",
       "      <td>0</td>\n",
       "      <td>0</td>\n",
       "      <td>0</td>\n",
       "      <td>0</td>\n",
       "      <td>0</td>\n",
       "    </tr>\n",
       "  </tbody>\n",
       "</table>\n",
       "</div>"
      ],
      "text/plain": [
       "ServiceCategory  0_8  10_9  11_11  12_7  13_11  14_7  15_1  16_8  17_5  18_4\n",
       "basketID                                                                    \n",
       "0_2017-08          0     0      0     0      0     0     0     0     0     0\n",
       "0_2017-09          0     0      0     0      0     0     0     0     0     0\n",
       "0_2018-01          0     0      0     0      0     0     0     0     0     0\n",
       "0_2018-04          0     0      0     0      0     1     0     0     0     0\n",
       "10000_2017-08      0     0      0     0      0     0     0     0     0     0"
      ]
     },
     "execution_count": 18,
     "metadata": {},
     "output_type": "execute_result"
    }
   ],
   "source": [
    "basket.head().iloc[:5,:10]"
   ]
  },
  {
   "cell_type": "code",
   "execution_count": 19,
   "id": "961f9090",
   "metadata": {},
   "outputs": [
    {
     "name": "stderr",
     "output_type": "stream",
     "text": [
      "C:\\Users\\Ludenz\\AppData\\Roaming\\Python\\Python39\\site-packages\\mlxtend\\frequent_patterns\\fpcommon.py:111: DeprecationWarning: DataFrames with non-bool types result in worse computationalperformance and their support might be discontinued in the future.Please use a DataFrame with bool type\n",
      "  warnings.warn(\n"
     ]
    }
   ],
   "source": [
    "# apply apriori algorithm to find frequently occurring itemsets with minimum support of 0.01\n",
    "frequent_itemsets = apriori(basket, min_support=0.01, use_colnames=True)"
   ]
  },
  {
   "cell_type": "code",
   "execution_count": 21,
   "id": "4eece1ec",
   "metadata": {},
   "outputs": [],
   "source": [
    "# apply association rules algorithm to find rules between frequently occurring itemsets with minimum support of 0.01\n",
    "rules = association_rules(frequent_itemsets, metric='support', min_threshold=0.01)"
   ]
  },
  {
   "cell_type": "code",
   "execution_count": 22,
   "id": "b55a20e5",
   "metadata": {},
   "outputs": [],
   "source": [
    "# define a function that returns the recommended itemsets for a given service-category combination\n",
    "# the function sorts the rules by lift, and returns the consequent itemset(s) for the given antecedent itemset\n",
    "def arl_recommender(rules_df, ServiceCategory, rec_count=1):\n",
    "    sorted_rules = rules_df.sort_values('lift', ascending=False)\n",
    "    recommendation_list = []\n",
    "    for i, product in enumerate(sorted_rules['antecedents']):\n",
    "        for j in list(product):\n",
    "            if j == ServiceCategory:\n",
    "                recommendation_list.append(list(sorted_rules.iloc[i]['consequents']))\n",
    "\n",
    "    return recommendation_list[0:rec_count]"
   ]
  },
  {
   "cell_type": "code",
   "execution_count": 23,
   "id": "789d7fd5",
   "metadata": {},
   "outputs": [
    {
     "data": {
      "text/plain": [
       "[['22_0']]"
      ]
     },
     "execution_count": 23,
     "metadata": {},
     "output_type": "execute_result"
    }
   ],
   "source": [
    "# use the arl_recommender function to get the recommended itemset for two service-category combinations\n",
    "arl_recommender(rules, '2_0', 1)"
   ]
  },
  {
   "cell_type": "code",
   "execution_count": 28,
   "id": "44774f07",
   "metadata": {},
   "outputs": [
    {
     "name": "stdout",
     "output_type": "stream",
     "text": [
      "Write down a service category25_0\n"
     ]
    },
    {
     "data": {
      "text/plain": [
       "[['22_0']]"
      ]
     },
     "execution_count": 28,
     "metadata": {},
     "output_type": "execute_result"
    }
   ],
   "source": [
    "service = input('Write down a service category')\n",
    "arl_recommender(rules, service, 1)"
   ]
  },
  {
   "cell_type": "code",
   "execution_count": null,
   "id": "16457502",
   "metadata": {},
   "outputs": [],
   "source": []
  }
 ],
 "metadata": {
  "kernelspec": {
   "display_name": "Python 3 (ipykernel)",
   "language": "python",
   "name": "python3"
  },
  "language_info": {
   "codemirror_mode": {
    "name": "ipython",
    "version": 3
   },
   "file_extension": ".py",
   "mimetype": "text/x-python",
   "name": "python",
   "nbconvert_exporter": "python",
   "pygments_lexer": "ipython3",
   "version": "3.9.16"
  }
 },
 "nbformat": 4,
 "nbformat_minor": 5
}
